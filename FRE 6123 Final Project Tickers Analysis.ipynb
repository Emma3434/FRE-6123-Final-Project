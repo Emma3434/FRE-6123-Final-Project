{
 "cells": [
  {
   "cell_type": "code",
   "execution_count": 1,
   "metadata": {},
   "outputs": [],
   "source": [
    "import pandas as pd \n",
    "import numpy as np\n",
    "import yfinance as yf\n",
    "from collections import Counter\n",
    "import matplotlib.pyplot as plt\n",
    "import datetime as dt"
   ]
  },
  {
   "cell_type": "code",
   "execution_count": 2,
   "metadata": {},
   "outputs": [
    {
     "name": "stdout",
     "output_type": "stream",
     "text": [
      "[*********************100%***********************]  15 of 15 completed\n"
     ]
    }
   ],
   "source": [
    "tickers = ['AAPL', 'MSFT', 'GOOG', 'AMZN', 'TSLA', 'BRK-B', 'NVDA', 'FB', 'UNH', 'V', 'JNJ', 'WMT', 'JPM', 'PG', 'MA']\n",
    "start = '2012-07-01'\n",
    "end = dt.datetime.today()\n",
    "close_original = yf.download(tickers, start=start, end=end)['Adj Close']"
   ]
  },
  {
   "cell_type": "code",
   "execution_count": 3,
   "metadata": {},
   "outputs": [],
   "source": [
    "# ticker info\n",
    "infos = []\n",
    "for ticker in tickers:\n",
    "    infos.append(yf.Ticker(ticker).info)"
   ]
  },
  {
   "cell_type": "code",
   "execution_count": 4,
   "metadata": {},
   "outputs": [
    {
     "data": {
      "image/png": "[encoded data removed]",
      "text/plain": [
       "<Figure size 432x288 with 1 Axes>"
      ]
     },
     "metadata": {},
     "output_type": "display_data"
    }
   ],
   "source": [
    "# sectors analysis\n",
    "sectors = []\n",
    "for info in infos:\n",
    "    sectors.append(info['sector'])\n",
    "counter=Counter(sectors)\n",
    "plt.pie(counter.values(), labels = counter.keys())\n",
    "plt.show()"
   ]
  },
  {
   "cell_type": "code",
   "execution_count": 5,
   "metadata": {},
   "outputs": [
    {
     "data": {
      "text/plain": [
       "AAPL       43.956860\n",
       "AMZN     1079.050444\n",
       "BRK-B      57.400104\n",
       "FB         89.273177\n",
       "GOOG      677.073801\n",
       "JNJ        32.573227\n",
       "JPM        37.622525\n",
       "MA        109.842039\n",
       "MSFT       85.960612\n",
       "NVDA       70.047871\n",
       "PG         29.488534\n",
       "TSLA      273.276456\n",
       "UNH       120.249674\n",
       "V          64.337014\n",
       "WMT        30.431752\n",
       "dtype: float64"
      ]
     },
     "execution_count": 5,
     "metadata": {},
     "output_type": "execute_result"
    }
   ],
   "source": [
    "# volatility analysis\n",
    "std = close_original.std()\n",
    "std"
   ]
  },
  {
   "cell_type": "code",
   "execution_count": 6,
   "metadata": {},
   "outputs": [
    {
     "data": {
      "text/plain": [
       "[2728876572672,\n",
       " 2145142439936,\n",
       " 1732861362176,\n",
       " 1532433793024,\n",
       " 993910325248,\n",
       " 791201185792,\n",
       " 545050460160,\n",
       " 599775248384,\n",
       " 510831722496,\n",
       " None,\n",
       " 478211801088,\n",
       " 434556076032,\n",
       " 405464449024,\n",
       " 388208394240,\n",
       " 341462319104]"
      ]
     },
     "execution_count": 6,
     "metadata": {},
     "output_type": "execute_result"
    }
   ],
   "source": [
    "# market cap size analysis\n",
    "market_cap = []\n",
    "for info in infos:\n",
    "    market_cap.append(info['marketCap'])\n",
    "market_cap"
   ]
  },
  {
   "cell_type": "code",
   "execution_count": null,
   "metadata": {},
   "outputs": [],
   "source": []
  }
 ],
 "metadata": {
  "interpreter": {
   "hash": "b18ecf447b39d25eae6a9ae9d5694327d58d99c869301a8afbbe0bb2ae2074bb"
  },
  "kernelspec": {
   "display_name": "Python 3.9.7 ('base')",
   "language": "python",
   "name": "python3"
  },
  "language_info": {
   "codemirror_mode": {
    "name": "ipython",
    "version": 3
   },
   "file_extension": ".py",
   "mimetype": "text/x-python",
   "name": "python",
   "nbconvert_exporter": "python",
   "pygments_lexer": "ipython3",
   "version": "3.9.7"
  },
  "orig_nbformat": 4
 },
 "nbformat": 4,
 "nbformat_minor": 2
}
