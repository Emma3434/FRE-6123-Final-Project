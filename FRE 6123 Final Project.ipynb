{
 "cells": [
  {
   "cell_type": "code",
   "execution_count": 24,
   "metadata": {},
   "outputs": [],
   "source": [
    "import pandas as pd \n",
    "import numpy as np\n",
    "import yfinance as yf\n",
    "import ta\n",
    "\n",
    "import pyfolio as pf\n",
    "import pypfopt # pip install PyPortfolioOpt\n",
    "\n",
    "\n",
    "\n",
    "import wrds\n",
    "import copy\n",
    "import datetime as dt\n",
    "import matplotlib.pyplot as plt\n",
    "from sklearn.model_selection import train_test_split\n",
    "from sklearn.ensemble import RandomForestClassifier\n",
    "from sklearn import metrics"
   ]
  },
  {
   "cell_type": "code",
   "execution_count": 3,
   "metadata": {},
   "outputs": [],
   "source": [
    "tickers = ['AAPL', 'MSFT', 'GOOG', 'AMZN', 'TSLA', 'BRK-B', 'NVDA', 'FB', 'UNH', 'V', 'JNJ', 'WMT', 'JPM', 'PG', 'MA']\n",
    "start = '2012-07-01'\n",
    "end = dt.datetime.today()"
   ]
  },
  {
   "cell_type": "markdown",
   "metadata": {},
   "source": [
    "# Data Import"
   ]
  },
  {
   "cell_type": "code",
   "execution_count": 4,
   "metadata": {},
   "outputs": [
    {
     "name": "stdout",
     "output_type": "stream",
     "text": [
      "[*********************100%***********************]  15 of 15 completed\n",
      "[*********************100%***********************]  15 of 15 completed\n",
      "[*********************100%***********************]  15 of 15 completed\n",
      "[*********************100%***********************]  15 of 15 completed\n"
     ]
    }
   ],
   "source": [
    "close_original = yf.download(tickers, start=start, end=end)['Adj Close']\n",
    "volume_original = yf.download(tickers, start=start, end=end)['Volume']\n",
    "high_original = yf.download(tickers, start=start, end=end)['High']\n",
    "low_original = yf.download(tickers, start=start, end=end)['Low']"
   ]
  },
  {
   "cell_type": "markdown",
   "metadata": {},
   "source": [
    "# Data Smoothing"
   ]
  },
  {
   "cell_type": "code",
   "execution_count": 6,
   "metadata": {},
   "outputs": [],
   "source": [
    "close = close_original.ewm(alpha=0.2).mean()\n",
    "volume = volume_original.ewm(alpha=0.2).mean()"
   ]
  },
  {
   "cell_type": "markdown",
   "metadata": {},
   "source": [
    "# Direction forecasting\n",
    "## Features\n",
    "### On balance Volume"
   ]
  },
  {
   "cell_type": "code",
   "execution_count": 7,
   "metadata": {},
   "outputs": [],
   "source": [
    "obv = pd.DataFrame()\n",
    "for ticker in tickers:\n",
    "    obv[ticker] = np.where(close[ticker] > close[ticker].shift(1),1,0) * volume[ticker]\n",
    "    obv[ticker] = np.where(close[ticker] < close[ticker].shift(1),-1,obv[ticker]) * volume[ticker]\n",
    "    obv[ticker] = obv[ticker].cumsum()"
   ]
  },
  {
   "cell_type": "markdown",
   "metadata": {},
   "source": [
    "### Stochastic Oscillator %K"
   ]
  },
  {
   "cell_type": "code",
   "execution_count": 8,
   "metadata": {},
   "outputs": [],
   "source": [
    "so = pd.DataFrame()\n",
    "for ticker in tickers:\n",
    "    so[ticker] = ta.momentum.StochasticOscillator(close = close_original[ticker], high = high_original[ticker], low = low_original[ticker]).stoch()"
   ]
  },
  {
   "cell_type": "markdown",
   "metadata": {},
   "source": [
    "### Moving Average Convergence Divergence"
   ]
  },
  {
   "cell_type": "code",
   "execution_count": 9,
   "metadata": {},
   "outputs": [],
   "source": [
    "macd = pd.DataFrame()\n",
    "for ticker in tickers:\n",
    "    macd[ticker] = ta.trend.MACD(close = close_original[ticker]).macd()\n",
    "    macd[ticker+\"_signal\"] = ta.trend.MACD(close = close_original[ticker]).macd_signal() "
   ]
  },
  {
   "cell_type": "markdown",
   "metadata": {},
   "source": [
    "### Organize features into dictionary"
   ]
  },
  {
   "cell_type": "code",
   "execution_count": 10,
   "metadata": {},
   "outputs": [],
   "source": [
    "features = {}\n",
    "for ticker in tickers:\n",
    "    features[ticker] = pd.DataFrame(obv[ticker],so[ticker],macd[ticker],macd[ticker+\"_signal\"])"
   ]
  },
  {
   "cell_type": "code",
   "execution_count": 11,
   "metadata": {},
   "outputs": [],
   "source": [
    "# Calculate log return\n",
    "log_ret = np.log(close_original/close_original.shift(1))\n",
    "\n",
    "# Calculate return\n",
    "ret = close_original/close_original.shift(1) - 1"
   ]
  },
  {
   "cell_type": "markdown",
   "metadata": {},
   "source": [
    "# Compare strategies\n",
    "## Equally weighted portfolio"
   ]
  },
  {
   "cell_type": "code",
   "execution_count": 12,
   "metadata": {},
   "outputs": [],
   "source": [
    "weight_equal = [1/len(tickers) for i in range(0,len(tickers))]\n",
    "strat_equal = (ret * weight_equal).sum(axis=1)\n",
    "# pf.create_full_tear_sheet(strat_equal)"
   ]
  },
  {
   "cell_type": "markdown",
   "metadata": {},
   "source": [
    "## Classic mean variance - no short"
   ]
  },
  {
   "cell_type": "code",
   "execution_count": 13,
   "metadata": {},
   "outputs": [
    {
     "name": "stdout",
     "output_type": "stream",
     "text": [
      "[*********************100%***********************]  15 of 15 completed\n"
     ]
    },
    {
     "data": {
      "text/html": [
       "<div>\n",
       "<style scoped>\n",
       "    .dataframe tbody tr th:only-of-type {\n",
       "        vertical-align: middle;\n",
       "    }\n",
       "\n",
       "    .dataframe tbody tr th {\n",
       "        vertical-align: top;\n",
       "    }\n",
       "\n",
       "    .dataframe thead th {\n",
       "        text-align: right;\n",
       "    }\n",
       "</style>\n",
       "<table border=\"1\" class=\"dataframe\">\n",
       "  <thead>\n",
       "    <tr style=\"text-align: right;\">\n",
       "      <th></th>\n",
       "      <th>AAPL</th>\n",
       "      <th>AMZN</th>\n",
       "      <th>BRK-B</th>\n",
       "      <th>FB</th>\n",
       "      <th>GOOG</th>\n",
       "      <th>JNJ</th>\n",
       "      <th>JPM</th>\n",
       "      <th>MA</th>\n",
       "      <th>MSFT</th>\n",
       "      <th>NVDA</th>\n",
       "      <th>PG</th>\n",
       "      <th>TSLA</th>\n",
       "      <th>UNH</th>\n",
       "      <th>V</th>\n",
       "      <th>WMT</th>\n",
       "    </tr>\n",
       "    <tr>\n",
       "      <th>Date</th>\n",
       "      <th></th>\n",
       "      <th></th>\n",
       "      <th></th>\n",
       "      <th></th>\n",
       "      <th></th>\n",
       "      <th></th>\n",
       "      <th></th>\n",
       "      <th></th>\n",
       "      <th></th>\n",
       "      <th></th>\n",
       "      <th></th>\n",
       "      <th></th>\n",
       "      <th></th>\n",
       "      <th></th>\n",
       "      <th></th>\n",
       "    </tr>\n",
       "  </thead>\n",
       "  <tbody>\n",
       "    <tr>\n",
       "      <th>2012-07-02</th>\n",
       "      <td>18.119987</td>\n",
       "      <td>229.320007</td>\n",
       "      <td>83.650002</td>\n",
       "      <td>30.770000</td>\n",
       "      <td>289.151184</td>\n",
       "      <td>51.882904</td>\n",
       "      <td>27.545603</td>\n",
       "      <td>41.542068</td>\n",
       "      <td>25.009995</td>\n",
       "      <td>3.088514</td>\n",
       "      <td>45.750225</td>\n",
       "      <td>6.080</td>\n",
       "      <td>48.115578</td>\n",
       "      <td>29.577492</td>\n",
       "      <td>55.298279</td>\n",
       "    </tr>\n",
       "    <tr>\n",
       "      <th>2012-07-03</th>\n",
       "      <td>18.330696</td>\n",
       "      <td>229.529999</td>\n",
       "      <td>83.779999</td>\n",
       "      <td>31.200001</td>\n",
       "      <td>292.817444</td>\n",
       "      <td>51.913441</td>\n",
       "      <td>27.469049</td>\n",
       "      <td>41.718674</td>\n",
       "      <td>25.173679</td>\n",
       "      <td>3.168884</td>\n",
       "      <td>45.877327</td>\n",
       "      <td>6.132</td>\n",
       "      <td>46.935345</td>\n",
       "      <td>29.512087</td>\n",
       "      <td>56.414600</td>\n",
       "    </tr>\n",
       "    <tr>\n",
       "      <th>2012-07-05</th>\n",
       "      <td>18.652710</td>\n",
       "      <td>227.059998</td>\n",
       "      <td>83.220001</td>\n",
       "      <td>31.469999</td>\n",
       "      <td>296.847351</td>\n",
       "      <td>51.715057</td>\n",
       "      <td>26.320684</td>\n",
       "      <td>41.962463</td>\n",
       "      <td>25.124577</td>\n",
       "      <td>3.136735</td>\n",
       "      <td>45.869850</td>\n",
       "      <td>6.246</td>\n",
       "      <td>47.730728</td>\n",
       "      <td>29.668587</td>\n",
       "      <td>56.677738</td>\n",
       "    </tr>\n",
       "    <tr>\n",
       "      <th>2012-07-06</th>\n",
       "      <td>18.528547</td>\n",
       "      <td>225.050003</td>\n",
       "      <td>82.540001</td>\n",
       "      <td>31.730000</td>\n",
       "      <td>291.895905</td>\n",
       "      <td>51.608257</td>\n",
       "      <td>25.953196</td>\n",
       "      <td>41.733776</td>\n",
       "      <td>24.707205</td>\n",
       "      <td>3.077032</td>\n",
       "      <td>45.817505</td>\n",
       "      <td>6.198</td>\n",
       "      <td>47.739273</td>\n",
       "      <td>29.264473</td>\n",
       "      <td>56.901009</td>\n",
       "    </tr>\n",
       "    <tr>\n",
       "      <th>2012-07-09</th>\n",
       "      <td>18.773514</td>\n",
       "      <td>225.050003</td>\n",
       "      <td>83.389999</td>\n",
       "      <td>32.169998</td>\n",
       "      <td>291.910858</td>\n",
       "      <td>51.715057</td>\n",
       "      <td>25.999132</td>\n",
       "      <td>40.754768</td>\n",
       "      <td>24.551701</td>\n",
       "      <td>3.035699</td>\n",
       "      <td>46.019379</td>\n",
       "      <td>6.298</td>\n",
       "      <td>47.970165</td>\n",
       "      <td>28.883717</td>\n",
       "      <td>57.219944</td>\n",
       "    </tr>\n",
       "  </tbody>\n",
       "</table>\n",
       "</div>"
      ],
      "text/plain": [
       "                 AAPL        AMZN      BRK-B         FB        GOOG  \\\n",
       "Date                                                                  \n",
       "2012-07-02  18.119987  229.320007  83.650002  30.770000  289.151184   \n",
       "2012-07-03  18.330696  229.529999  83.779999  31.200001  292.817444   \n",
       "2012-07-05  18.652710  227.059998  83.220001  31.469999  296.847351   \n",
       "2012-07-06  18.528547  225.050003  82.540001  31.730000  291.895905   \n",
       "2012-07-09  18.773514  225.050003  83.389999  32.169998  291.910858   \n",
       "\n",
       "                  JNJ        JPM         MA       MSFT      NVDA         PG  \\\n",
       "Date                                                                          \n",
       "2012-07-02  51.882904  27.545603  41.542068  25.009995  3.088514  45.750225   \n",
       "2012-07-03  51.913441  27.469049  41.718674  25.173679  3.168884  45.877327   \n",
       "2012-07-05  51.715057  26.320684  41.962463  25.124577  3.136735  45.869850   \n",
       "2012-07-06  51.608257  25.953196  41.733776  24.707205  3.077032  45.817505   \n",
       "2012-07-09  51.715057  25.999132  40.754768  24.551701  3.035699  46.019379   \n",
       "\n",
       "             TSLA        UNH          V        WMT  \n",
       "Date                                                \n",
       "2012-07-02  6.080  48.115578  29.577492  55.298279  \n",
       "2012-07-03  6.132  46.935345  29.512087  56.414600  \n",
       "2012-07-05  6.246  47.730728  29.668587  56.677738  \n",
       "2012-07-06  6.198  47.739273  29.264473  56.901009  \n",
       "2012-07-09  6.298  47.970165  28.883717  57.219944  "
      ]
     },
     "execution_count": 13,
     "metadata": {},
     "output_type": "execute_result"
    }
   ],
   "source": [
    "# Read in price data\n",
    "df = yf.download(tickers=tickers, start=start, end=end)['Adj Close']\n",
    "df.head()"
   ]
  },
  {
   "cell_type": "code",
   "execution_count": 14,
   "metadata": {},
   "outputs": [
    {
     "name": "stdout",
     "output_type": "stream",
     "text": [
      "Expected annual return: 42.2%\n",
      "Annual volatility: 24.8%\n",
      "Sharpe Ratio: 1.62\n"
     ]
    },
    {
     "data": {
      "text/plain": [
       "(0.4218156066182406, 0.24833392918143843, 1.6180455403041802)"
      ]
     },
     "execution_count": 14,
     "metadata": {},
     "output_type": "execute_result"
    }
   ],
   "source": [
    "from pypfopt.expected_returns import mean_historical_return\n",
    "from pypfopt.risk_models import CovarianceShrinkage\n",
    "from pypfopt.efficient_frontier import EfficientFrontier\n",
    "\n",
    "mu = mean_historical_return(df)\n",
    "S = CovarianceShrinkage(df).ledoit_wolf()\n",
    "\n",
    "ef = EfficientFrontier(mu, S)\n",
    "weights = ef.max_sharpe()\n",
    "\n",
    "ef.portfolio_performance(verbose=True)"
   ]
  },
  {
   "cell_type": "markdown",
   "metadata": {},
   "source": [
    "## Classic mean variance - short allowed"
   ]
  },
  {
   "cell_type": "code",
   "execution_count": 15,
   "metadata": {},
   "outputs": [
    {
     "name": "stdout",
     "output_type": "stream",
     "text": [
      "Expected annual return: 46.4%\n",
      "Annual volatility: 26.9%\n",
      "Sharpe Ratio: 1.65\n"
     ]
    },
    {
     "data": {
      "text/plain": [
       "(0.4638490685432127, 0.26867866615065256, 1.6519698973581296)"
      ]
     },
     "execution_count": 15,
     "metadata": {},
     "output_type": "execute_result"
    }
   ],
   "source": [
    "ef_short = EfficientFrontier(mu, S, weight_bounds=(-1,1))\n",
    "weights_short = ef_short.max_sharpe()\n",
    "ef_short.portfolio_performance(verbose=True)"
   ]
  },
  {
   "cell_type": "code",
   "execution_count": null,
   "metadata": {},
   "outputs": [],
   "source": []
  }
 ],
 "metadata": {
  "interpreter": {
   "hash": "b18ecf447b39d25eae6a9ae9d5694327d58d99c869301a8afbbe0bb2ae2074bb"
  },
  "kernelspec": {
   "display_name": "Python 3.9.7 ('base')",
   "language": "python",
   "name": "python3"
  },
  "language_info": {
   "codemirror_mode": {
    "name": "ipython",
    "version": 3
   },
   "file_extension": ".py",
   "mimetype": "text/x-python",
   "name": "python",
   "nbconvert_exporter": "python",
   "pygments_lexer": "ipython3",
   "version": "3.9.7"
  },
  "orig_nbformat": 4
 },
 "nbformat": 4,
 "nbformat_minor": 2
}
