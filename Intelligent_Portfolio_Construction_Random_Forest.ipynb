{
 "cells": [
  {
   "cell_type": "code",
   "execution_count": 2,
   "metadata": {},
   "outputs": [],
   "source": [
    "import pandas as pd \n",
    "import numpy as np\n",
    "import yfinance as yf\n",
    "\n",
    "import copy\n",
    "import datetime as dt\n",
    "import matplotlib.pyplot as plt\n",
    "from sklearn.model_selection import train_test_split\n",
    "from sklearn.ensemble import RandomForestClassifier\n",
    "from sklearn import metrics"
   ]
  },
  {
   "cell_type": "code",
   "execution_count": 3,
   "metadata": {},
   "outputs": [],
   "source": [
    "tickers = ['AAPL', 'AMZN', 'C', 'CVS', 'MMM', 'SBUX', 'SCHW', 'XOM']\n",
    "start = '2000-06-02'\n",
    "end = '2016-04-26' \n",
    "end2 = dt.datetime.today()"
   ]
  },
  {
   "cell_type": "markdown",
   "metadata": {},
   "source": [
    "### Import Data"
   ]
  },
  {
   "cell_type": "code",
   "execution_count": 4,
   "metadata": {},
   "outputs": [
    {
     "name": "stdout",
     "output_type": "stream",
     "text": [
      "[*********************100%***********************]  8 of 8 completed\n",
      "[*********************100%***********************]  8 of 8 completed\n",
      "[*********************100%***********************]  8 of 8 completed\n",
      "[*********************100%***********************]  8 of 8 completed\n",
      "[*********************100%***********************]  8 of 8 completed\n"
     ]
    }
   ],
   "source": [
    "AdjClose = yf.download(tickers, start=start, end=end)['Adj Close']\n",
    "Volume = yf.download(tickers, start=start, end=end)['Volume']\n",
    "High = yf.download(tickers, start=start, end=end)['High']\n",
    "Low = yf.download(tickers, start=start, end=end)['Low']\n",
    "Close = yf.download(tickers, start=start, end=end)['Close']"
   ]
  },
  {
   "cell_type": "code",
   "execution_count": 5,
   "metadata": {},
   "outputs": [
    {
     "name": "stdout",
     "output_type": "stream",
     "text": [
      "[*********************100%***********************]  8 of 8 completed\n",
      "[*********************100%***********************]  8 of 8 completed\n",
      "[*********************100%***********************]  8 of 8 completed\n",
      "[*********************100%***********************]  8 of 8 completed\n",
      "[*********************100%***********************]  8 of 8 completed\n"
     ]
    }
   ],
   "source": [
    "AdjClose_Validation = yf.download(tickers, start=end, end=end2)['Adj Close']\n",
    "Volume_Validation = yf.download(tickers, start=end, end=end2)['Volume']\n",
    "High_Validation = yf.download(tickers, start=end, end=end2)['High']\n",
    "Low_Validation = yf.download(tickers, start=end, end=end2)['Low']\n",
    "Close_Validation = yf.download(tickers, start=end, end=end2)['Close']"
   ]
  },
  {
   "cell_type": "markdown",
   "metadata": {},
   "source": [
    "### Exponential Smoothing Function"
   ]
  },
  {
   "cell_type": "code",
   "execution_count": 6,
   "metadata": {},
   "outputs": [],
   "source": [
    "def exponential_smoothing(df, alpha):\n",
    "    DF = df.copy().reset_index(drop=True) \n",
    "    DF.loc[1] = (DF.loc[1]*alpha)+(DF.loc[0]*(1-alpha))\n",
    "    \n",
    "    for i in range(2, len(DF)-1):\n",
    "        DF[i] = (DF[i]*alpha)+(DF[i-1]*(1-alpha))\n",
    "    \n",
    "    return DF\n",
    "\n",
    "E = {}\n",
    "for n in AdjClose.columns:\n",
    "    E[f'{n}']= exponential_smoothing(AdjClose[n], 0.2)"
   ]
  },
  {
   "cell_type": "markdown",
   "metadata": {},
   "source": [
    "### Feature Derivation"
   ]
  },
  {
   "cell_type": "markdown",
   "metadata": {},
   "source": [
    "### On Balance Volume"
   ]
  },
  {
   "cell_type": "code",
   "execution_count": 7,
   "metadata": {},
   "outputs": [],
   "source": [
    "def OBV(df_price, df_volume):\n",
    "    OBV_df = pd.DataFrame(index=range(len(df_volume.index)), columns=['OBV'])\n",
    "    OBV_df.iloc[0] = 0\n",
    "    \n",
    "    for i in range(1, len(df_price)):\n",
    "        if df_price[i] > df_price[i-1]:\n",
    "            OBV_df.loc[i] = (OBV_df.loc[i-1] + df_volume[i])\n",
    "        elif df_price[i] < df_price[i-1]:\n",
    "            OBV_df.loc[i] = (OBV_df.loc[i-1] - df_volume[i])\n",
    "        else:\n",
    "            OBV_df.loc[i] = (OBV_df.loc[i-1] + 0)\n",
    "    \n",
    "    OBV_df.index = df_volume.index\n",
    "    return OBV_df\n",
    "\n",
    "O = {}\n",
    "for n in AdjClose.columns:\n",
    "    O[f'{n}']= OBV(E[n], Volume[n])"
   ]
  },
  {
   "cell_type": "code",
   "execution_count": 8,
   "metadata": {},
   "outputs": [
    {
     "data": {
      "text/plain": [
       "<matplotlib.legend.Legend at 0x242b43b8b20>"
      ]
     },
     "execution_count": 8,
     "metadata": {},
     "output_type": "execute_result"
    },
    {
     "data": {
      "image/png": "[encoded data removed]",
      "text/plain": [
       "<Figure size 432x288 with 1 Axes>"
      ]
     },
     "metadata": {
      "needs_background": "light"
     },
     "output_type": "display_data"
    }
   ],
   "source": [
    "plt.plot(((O['AAPL']-O['AAPL'].min())/(O['AAPL'].max()-O['AAPL'].min())).reset_index(drop=True), label='OBV')\n",
    "plt.plot((E['AAPL']-E['AAPL'].min())/(E['AAPL'].max()-E['AAPL'].min()), label='Smoothed')\n",
    "plt.legend()"
   ]
  },
  {
   "cell_type": "markdown",
   "metadata": {},
   "source": [
    "#### Stochastic Oscillator"
   ]
  },
  {
   "cell_type": "code",
   "execution_count": 9,
   "metadata": {},
   "outputs": [],
   "source": [
    "def stochastic_oscillator(close, df_low, df_high, K):\n",
    "    \"remember not to use AdjClose\"\n",
    "    low = df_low.rolling(K).min().reset_index(drop=True)\n",
    "    high = df_high.rolling(K).max().reset_index(drop=True)\n",
    "    \n",
    "    stoch_oscillator = pd.DataFrame()\n",
    "    stoch_oscillator['Oscillator'] = 100*((close - low)/(high - low))\n",
    "    \n",
    "    return stoch_oscillator\n",
    "\n",
    "S = {}\n",
    "for n in AdjClose.columns:\n",
    "    S[f'{n}']= stochastic_oscillator(close=E[n], df_low=E[n], df_high=E[n], K=14)"
   ]
  },
  {
   "cell_type": "markdown",
   "metadata": {},
   "source": [
    "#### Moving Average Convergence Divergence"
   ]
  },
  {
   "cell_type": "code",
   "execution_count": 10,
   "metadata": {},
   "outputs": [],
   "source": [
    "# New One for Validation Set\n",
    "def MACD(data):\n",
    "    MA_Fast = data.ewm(span=12,min_periods=12).mean()\n",
    "    MA_Slow = data.ewm(span=26,min_periods=26).mean()\n",
    "    MACD = MA_Fast - MA_Slow\n",
    "    Signal = MACD.ewm(span=9,min_periods=9).mean()\n",
    "    \n",
    "    return pd.DataFrame(index=['MACD', 'Signal'], data=[MACD,Signal]).T\n",
    "\n",
    "M = {}\n",
    "for n in AdjClose.columns:\n",
    "    M[f'{n}'] = MACD(data=E[n])"
   ]
  },
  {
   "cell_type": "markdown",
   "metadata": {},
   "source": [
    "### Concatenate functions in a single dictionary"
   ]
  },
  {
   "cell_type": "code",
   "execution_count": 11,
   "metadata": {},
   "outputs": [],
   "source": [
    "dict_data = {}\n",
    "for n in AdjClose.columns:\n",
    "    dict_data[f'{n}'] = (pd.concat([E[n], \n",
    "                                    O[n].reset_index(drop=True), \n",
    "                                    S[n], \n",
    "                                    M[n]],\n",
    "                                   axis=1)).set_index(O[n].index)"
   ]
  },
  {
   "cell_type": "code",
   "execution_count": 22,
   "metadata": {},
   "outputs": [
    {
     "data": {
      "text/html": [
       "<div>\n",
       "<style scoped>\n",
       "    .dataframe tbody tr th:only-of-type {\n",
       "        vertical-align: middle;\n",
       "    }\n",
       "\n",
       "    .dataframe tbody tr th {\n",
       "        vertical-align: top;\n",
       "    }\n",
       "\n",
       "    .dataframe thead th {\n",
       "        text-align: right;\n",
       "    }\n",
       "</style>\n",
       "<table border=\"1\" class=\"dataframe\">\n",
       "  <thead>\n",
       "    <tr style=\"text-align: right;\">\n",
       "      <th></th>\n",
       "      <th>AAPL</th>\n",
       "      <th>OBV</th>\n",
       "      <th>Oscillator</th>\n",
       "      <th>MACD</th>\n",
       "      <th>Signal</th>\n",
       "    </tr>\n",
       "    <tr>\n",
       "      <th>Date</th>\n",
       "      <th></th>\n",
       "      <th></th>\n",
       "      <th></th>\n",
       "      <th></th>\n",
       "      <th></th>\n",
       "    </tr>\n",
       "  </thead>\n",
       "  <tbody>\n",
       "    <tr>\n",
       "      <th>2000-06-02</th>\n",
       "      <td>0.707669</td>\n",
       "      <td>0</td>\n",
       "      <td>NaN</td>\n",
       "      <td>NaN</td>\n",
       "      <td>NaN</td>\n",
       "    </tr>\n",
       "    <tr>\n",
       "      <th>2000-06-05</th>\n",
       "      <td>0.705757</td>\n",
       "      <td>-323668800</td>\n",
       "      <td>NaN</td>\n",
       "      <td>NaN</td>\n",
       "      <td>NaN</td>\n",
       "    </tr>\n",
       "    <tr>\n",
       "      <th>2000-06-06</th>\n",
       "      <td>0.706617</td>\n",
       "      <td>201812800</td>\n",
       "      <td>NaN</td>\n",
       "      <td>NaN</td>\n",
       "      <td>NaN</td>\n",
       "    </tr>\n",
       "    <tr>\n",
       "      <th>2000-06-07</th>\n",
       "      <td>0.712944</td>\n",
       "      <td>538832000</td>\n",
       "      <td>NaN</td>\n",
       "      <td>NaN</td>\n",
       "      <td>NaN</td>\n",
       "    </tr>\n",
       "    <tr>\n",
       "      <th>2000-06-08</th>\n",
       "      <td>0.715329</td>\n",
       "      <td>777358400</td>\n",
       "      <td>NaN</td>\n",
       "      <td>NaN</td>\n",
       "      <td>NaN</td>\n",
       "    </tr>\n",
       "    <tr>\n",
       "      <th>...</th>\n",
       "      <td>...</td>\n",
       "      <td>...</td>\n",
       "      <td>...</td>\n",
       "      <td>...</td>\n",
       "      <td>...</td>\n",
       "    </tr>\n",
       "    <tr>\n",
       "      <th>2016-04-19</th>\n",
       "      <td>25.215885</td>\n",
       "      <td>233114401200</td>\n",
       "      <td>64.75455</td>\n",
       "      <td>0.482795</td>\n",
       "      <td>0.520023</td>\n",
       "    </tr>\n",
       "    <tr>\n",
       "      <th>2016-04-20</th>\n",
       "      <td>25.125400</td>\n",
       "      <td>232991957200</td>\n",
       "      <td>42.23846</td>\n",
       "      <td>0.444390</td>\n",
       "      <td>0.504897</td>\n",
       "    </tr>\n",
       "    <tr>\n",
       "      <th>2016-04-21</th>\n",
       "      <td>24.999384</td>\n",
       "      <td>232865747200</td>\n",
       "      <td>0.00000</td>\n",
       "      <td>0.399183</td>\n",
       "      <td>0.483754</td>\n",
       "    </tr>\n",
       "    <tr>\n",
       "      <th>2016-04-22</th>\n",
       "      <td>24.885165</td>\n",
       "      <td>232731014800</td>\n",
       "      <td>0.00000</td>\n",
       "      <td>0.350104</td>\n",
       "      <td>0.457024</td>\n",
       "    </tr>\n",
       "    <tr>\n",
       "      <th>2016-04-25</th>\n",
       "      <td>24.289598</td>\n",
       "      <td>232618888400</td>\n",
       "      <td>0.00000</td>\n",
       "      <td>0.260153</td>\n",
       "      <td>0.417650</td>\n",
       "    </tr>\n",
       "  </tbody>\n",
       "</table>\n",
       "<p>3998 rows × 5 columns</p>\n",
       "</div>"
      ],
      "text/plain": [
       "                 AAPL           OBV  Oscillator      MACD    Signal\n",
       "Date                                                               \n",
       "2000-06-02   0.707669             0         NaN       NaN       NaN\n",
       "2000-06-05   0.705757    -323668800         NaN       NaN       NaN\n",
       "2000-06-06   0.706617     201812800         NaN       NaN       NaN\n",
       "2000-06-07   0.712944     538832000         NaN       NaN       NaN\n",
       "2000-06-08   0.715329     777358400         NaN       NaN       NaN\n",
       "...               ...           ...         ...       ...       ...\n",
       "2016-04-19  25.215885  233114401200    64.75455  0.482795  0.520023\n",
       "2016-04-20  25.125400  232991957200    42.23846  0.444390  0.504897\n",
       "2016-04-21  24.999384  232865747200     0.00000  0.399183  0.483754\n",
       "2016-04-22  24.885165  232731014800     0.00000  0.350104  0.457024\n",
       "2016-04-25  24.289598  232618888400     0.00000  0.260153  0.417650\n",
       "\n",
       "[3998 rows x 5 columns]"
      ]
     },
     "execution_count": 22,
     "metadata": {},
     "output_type": "execute_result"
    }
   ],
   "source": [
    "dict_data['AAPL']"
   ]
  },
  {
   "cell_type": "markdown",
   "metadata": {},
   "source": [
    "### Application of all functions to validation set"
   ]
  },
  {
   "cell_type": "code",
   "execution_count": 12,
   "metadata": {},
   "outputs": [],
   "source": [
    "# Smoothing\n",
    "E_validation = {}\n",
    "for n in AdjClose_Validation.columns:\n",
    "    E_validation[f'{n}']= exponential_smoothing(AdjClose_Validation[n], 0.2)\n",
    "    \n",
    "# On Balance Volume\n",
    "O_validation = {}\n",
    "for n in AdjClose_Validation.columns:\n",
    "    O_validation[f'{n}']= OBV(E_validation[n], Volume_Validation[n])\n",
    "\n",
    "# Stochastic Oscillator\n",
    "S_validation = {}\n",
    "for n in AdjClose_Validation.columns:\n",
    "    S_validation[f'{n}']= stochastic_oscillator(close=E_validation[n], df_low=E_validation[n], df_high=E_validation[n], K=14)\n",
    "    \n",
    "# Moving Average Convergence Divergence\n",
    "M_validation = {}\n",
    "for n in AdjClose_Validation.columns:\n",
    "    M_validation[f'{n}'] = MACD(data=pd.Series(E_validation[n]))\n",
    "    \n",
    "# Concatenate all together    \n",
    "dict_data_validation = {}\n",
    "for n in AdjClose_Validation.columns:\n",
    "    dict_data_validation[f'{n}'] = (pd.concat([E_validation[n], \n",
    "                                               O_validation[n].reset_index(drop=True), \n",
    "                                               S_validation[n], \n",
    "                                               M_validation[n]], axis=1)).set_index(O_validation[n].index)"
   ]
  },
  {
   "cell_type": "code",
   "execution_count": 23,
   "metadata": {},
   "outputs": [
    {
     "data": {
      "text/html": [
       "<div>\n",
       "<style scoped>\n",
       "    .dataframe tbody tr th:only-of-type {\n",
       "        vertical-align: middle;\n",
       "    }\n",
       "\n",
       "    .dataframe tbody tr th {\n",
       "        vertical-align: top;\n",
       "    }\n",
       "\n",
       "    .dataframe thead th {\n",
       "        text-align: right;\n",
       "    }\n",
       "</style>\n",
       "<table border=\"1\" class=\"dataframe\">\n",
       "  <thead>\n",
       "    <tr style=\"text-align: right;\">\n",
       "      <th></th>\n",
       "      <th>AAPL</th>\n",
       "      <th>OBV</th>\n",
       "      <th>Oscillator</th>\n",
       "      <th>MACD</th>\n",
       "      <th>Signal</th>\n",
       "    </tr>\n",
       "    <tr>\n",
       "      <th>Date</th>\n",
       "      <th></th>\n",
       "      <th></th>\n",
       "      <th></th>\n",
       "      <th></th>\n",
       "      <th></th>\n",
       "    </tr>\n",
       "  </thead>\n",
       "  <tbody>\n",
       "    <tr>\n",
       "      <th>2016-04-26</th>\n",
       "      <td>24.120852</td>\n",
       "      <td>0</td>\n",
       "      <td>NaN</td>\n",
       "      <td>NaN</td>\n",
       "      <td>NaN</td>\n",
       "    </tr>\n",
       "    <tr>\n",
       "      <th>2016-04-27</th>\n",
       "      <td>23.818966</td>\n",
       "      <td>-458408400</td>\n",
       "      <td>NaN</td>\n",
       "      <td>NaN</td>\n",
       "      <td>NaN</td>\n",
       "    </tr>\n",
       "    <tr>\n",
       "      <th>2016-04-28</th>\n",
       "      <td>23.439227</td>\n",
       "      <td>-787379200</td>\n",
       "      <td>NaN</td>\n",
       "      <td>NaN</td>\n",
       "      <td>NaN</td>\n",
       "    </tr>\n",
       "    <tr>\n",
       "      <th>2016-04-29</th>\n",
       "      <td>23.085045</td>\n",
       "      <td>-1061505200</td>\n",
       "      <td>NaN</td>\n",
       "      <td>NaN</td>\n",
       "      <td>NaN</td>\n",
       "    </tr>\n",
       "    <tr>\n",
       "      <th>2016-05-02</th>\n",
       "      <td>22.797076</td>\n",
       "      <td>-1254145600</td>\n",
       "      <td>NaN</td>\n",
       "      <td>NaN</td>\n",
       "      <td>NaN</td>\n",
       "    </tr>\n",
       "    <tr>\n",
       "      <th>...</th>\n",
       "      <td>...</td>\n",
       "      <td>...</td>\n",
       "      <td>...</td>\n",
       "      <td>...</td>\n",
       "      <td>...</td>\n",
       "    </tr>\n",
       "    <tr>\n",
       "      <th>2022-04-04</th>\n",
       "      <td>174.276303</td>\n",
       "      <td>36990354700</td>\n",
       "      <td>100.000000</td>\n",
       "      <td>2.004972</td>\n",
       "      <td>0.412264</td>\n",
       "    </tr>\n",
       "    <tr>\n",
       "      <th>2022-04-05</th>\n",
       "      <td>174.433042</td>\n",
       "      <td>37063756500</td>\n",
       "      <td>100.000000</td>\n",
       "      <td>2.273907</td>\n",
       "      <td>0.784593</td>\n",
       "    </tr>\n",
       "    <tr>\n",
       "      <th>2022-04-06</th>\n",
       "      <td>173.912434</td>\n",
       "      <td>36974697700</td>\n",
       "      <td>96.459674</td>\n",
       "      <td>2.417167</td>\n",
       "      <td>1.111107</td>\n",
       "    </tr>\n",
       "    <tr>\n",
       "      <th>2022-04-07</th>\n",
       "      <td>173.557947</td>\n",
       "      <td>36897103000</td>\n",
       "      <td>93.553475</td>\n",
       "      <td>2.473583</td>\n",
       "      <td>1.383603</td>\n",
       "    </tr>\n",
       "    <tr>\n",
       "      <th>2022-04-08</th>\n",
       "      <td>170.089996</td>\n",
       "      <td>36820587100</td>\n",
       "      <td>63.754638</td>\n",
       "      <td>2.212950</td>\n",
       "      <td>1.549472</td>\n",
       "    </tr>\n",
       "  </tbody>\n",
       "</table>\n",
       "<p>1501 rows × 5 columns</p>\n",
       "</div>"
      ],
      "text/plain": [
       "                  AAPL          OBV  Oscillator      MACD    Signal\n",
       "Date                                                               \n",
       "2016-04-26   24.120852            0         NaN       NaN       NaN\n",
       "2016-04-27   23.818966   -458408400         NaN       NaN       NaN\n",
       "2016-04-28   23.439227   -787379200         NaN       NaN       NaN\n",
       "2016-04-29   23.085045  -1061505200         NaN       NaN       NaN\n",
       "2016-05-02   22.797076  -1254145600         NaN       NaN       NaN\n",
       "...                ...          ...         ...       ...       ...\n",
       "2022-04-04  174.276303  36990354700  100.000000  2.004972  0.412264\n",
       "2022-04-05  174.433042  37063756500  100.000000  2.273907  0.784593\n",
       "2022-04-06  173.912434  36974697700   96.459674  2.417167  1.111107\n",
       "2022-04-07  173.557947  36897103000   93.553475  2.473583  1.383603\n",
       "2022-04-08  170.089996  36820587100   63.754638  2.212950  1.549472\n",
       "\n",
       "[1501 rows x 5 columns]"
      ]
     },
     "execution_count": 23,
     "metadata": {},
     "output_type": "execute_result"
    }
   ],
   "source": [
    "dict_data_validation['AAPL']"
   ]
  },
  {
   "cell_type": "markdown",
   "metadata": {},
   "source": [
    "### Function to classify the dependent variable Smoothed AdjClose Price as -1 or 1"
   ]
  },
  {
   "cell_type": "code",
   "execution_count": 13,
   "metadata": {},
   "outputs": [],
   "source": [
    "def finalise_data(DF, column, n):\n",
    "    df = copy.deepcopy(DF)\n",
    "    df[column][column] = np.sign(np.log(df[column][column]/df[column][column].shift(n-1)))\n",
    "    \n",
    "    return df[column]"
   ]
  },
  {
   "cell_type": "markdown",
   "metadata": {},
   "source": [
    "### Random Forest Model"
   ]
  },
  {
   "cell_type": "code",
   "execution_count": 14,
   "metadata": {},
   "outputs": [],
   "source": [
    "def RFClassifier(DF, column, n, validation=False, validation_DF=None, feature_importance=False):\n",
    "    data = finalise_data(DF=DF, column=column, n=n)\n",
    "    data.dropna(axis=0, inplace=True)\n",
    "    \n",
    "    X = data[['OBV', 'Oscillator', 'MACD', 'Signal']]\n",
    "    y = data[column]\n",
    "    \n",
    "    X_train, X_test, y_train, y_test = train_test_split(X, y, test_size=0.2)\n",
    "    model = RandomForestClassifier(n_estimators=100)\n",
    "    model.fit(X_train,y_train)\n",
    "    prediction= model.predict(X_test)\n",
    "    \n",
    "    Accuracy = metrics.accuracy_score(y_test, prediction)\n",
    "    Precision = metrics.average_precision_score(y_test, prediction)\n",
    "    Recall = metrics.recall_score(y_test, prediction)\n",
    "    F1_score = metrics.f1_score(y_test, prediction)\n",
    "    \n",
    "    if validation ==  True:\n",
    "        validation_data = finalise_data(DF=validation_DF, column=column, n=n)\n",
    "        validation_data.dropna(axis=0, inplace=True)\n",
    "        \n",
    "        X_validation = validation_data[['OBV', 'Oscillator', 'MACD', 'Signal']]\n",
    "        y_validation = validation_data[column]\n",
    "        validation_prediction = model.predict(X_validation)\n",
    "        \n",
    "        Accuracy_validation = metrics.accuracy_score(y_validation, validation_prediction)\n",
    "        Precision_validation = metrics.average_precision_score(y_validation, validation_prediction)\n",
    "        Recall_validation = metrics.recall_score(y_validation, validation_prediction)\n",
    "        F1_score_validation = metrics.f1_score(y_validation, validation_prediction)\n",
    "        \n",
    "        return n, column,Accuracy_validation, Precision_validation, Recall_validation, F1_score_validation\n",
    "    \n",
    "    elif feature_importance == True:\n",
    "        return pd.Series(model.feature_importances_,(X).columns)\n",
    "        \n",
    "    else:\n",
    "        return n, column, Accuracy, Precision, Recall, F1_score"
   ]
  },
  {
   "cell_type": "code",
   "execution_count": 15,
   "metadata": {},
   "outputs": [],
   "source": [
    "train_test = []\n",
    "for i in AdjClose.columns:\n",
    "    for m in range(2,31):\n",
    "        train_test.append(RFClassifier(DF=dict_data, column=i, n=m))\n",
    "result = pd.DataFrame(np.array(train_test), columns=['n', 'Ticker', 'Accuracy', 'Precision', 'Recall', 'F1_score'])\n",
    "result[['F1_score','Recall','Precision','Accuracy']]=result[['F1_score','Recall','Precision','Accuracy']].astype(float)\n",
    "result['n']=result['n'].astype(int)"
   ]
  },
  {
   "cell_type": "code",
   "execution_count": 16,
   "metadata": {},
   "outputs": [],
   "source": [
    "validation_res = []\n",
    "for i in AdjClose.columns:\n",
    "    for m in range(2,31):\n",
    "        validation_res.append(RFClassifier(DF=dict_data, column=i, n=m, validation=True, validation_DF=dict_data_validation))\n",
    "validation_result = pd.DataFrame(np.array(validation_res), columns=['n', 'Ticker', 'AccuracyV', 'PrecisionV', 'RecallV', 'F1_scoreV'])\n",
    "validation_result[['F1_scoreV','RecallV','PrecisionV','AccuracyV']]=validation_result[['F1_scoreV','RecallV','PrecisionV','AccuracyV']].astype(float)\n",
    "validation_result['n']=validation_result['n'].astype(int)"
   ]
  },
  {
   "cell_type": "code",
   "execution_count": 17,
   "metadata": {},
   "outputs": [
    {
     "data": {
      "image/png": "[encoded data removed]",
      "text/plain": [
       "<Figure size 432x288 with 1 Axes>"
      ]
     },
     "metadata": {
      "needs_background": "light"
     },
     "output_type": "display_data"
    }
   ],
   "source": [
    "plt.title('Mean Accuracy for each n')\n",
    "plt.scatter(validation_result.groupby('n').mean().index, validation_result.groupby('n').mean().AccuracyV)\n",
    "plt.xticks(np.arange(min(validation_result.groupby('n').mean().index), max(validation_result.groupby('n').mean().index)+1, 2.0))\n",
    "plt.grid()"
   ]
  },
  {
   "cell_type": "code",
   "execution_count": 18,
   "metadata": {},
   "outputs": [],
   "source": [
    "feature_importances = []\n",
    "for i in AdjClose.columns:\n",
    "    for m in range(2,31):\n",
    "        feature_importances.append(RFClassifier(DF=dict_data, column=i, n=m, validation=False, validation_DF=None, feature_importance=True))\n",
    "feature_importances_df = pd.DataFrame(np.array(feature_importances), columns=[['OBV', 'Oscillator', 'MACD', 'Signal']], index=result.n)"
   ]
  },
  {
   "cell_type": "code",
   "execution_count": 20,
   "metadata": {},
   "outputs": [
    {
     "data": {
      "text/plain": [
       "<matplotlib.legend.Legend at 0x242b4fe9760>"
      ]
     },
     "execution_count": 20,
     "metadata": {},
     "output_type": "execute_result"
    },
    {
     "data": {
      "image/png": "[encoded data removed]",
      "text/plain": [
       "<Figure size 432x288 with 1 Axes>"
      ]
     },
     "metadata": {
      "needs_background": "light"
     },
     "output_type": "display_data"
    }
   ],
   "source": [
    "plt.title('Feature Importance as a function of n')\n",
    "plt.plot(feature_importances_df.groupby(feature_importances_df.index).mean(), label=feature_importances_df.columns)\n",
    "plt.legend()"
   ]
  },
  {
   "cell_type": "code",
   "execution_count": null,
   "metadata": {},
   "outputs": [],
   "source": []
  }
 ],
 "metadata": {
  "kernelspec": {
   "display_name": "Python 3",
   "language": "python",
   "name": "python3"
  },
  "language_info": {
   "codemirror_mode": {
    "name": "ipython",
    "version": 3
   },
   "file_extension": ".py",
   "mimetype": "text/x-python",
   "name": "python",
   "nbconvert_exporter": "python",
   "pygments_lexer": "ipython3",
   "version": "3.9.7"
  }
 },
 "nbformat": 4,
 "nbformat_minor": 4
}
